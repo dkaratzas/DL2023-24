{
 "cells": [
  {
   "cell_type": "code",
   "execution_count": 1,
   "id": "e2a4203b-6efe-4922-817e-5eacab288a09",
   "metadata": {
    "id": "YIr2ty0tFA4C"
   },
   "outputs": [],
   "source": [
    "import torch #should be installed by default in any colab notebook"
   ]
  },
  {
   "cell_type": "code",
   "execution_count": 5,
   "id": "37fd5603-a9e8-456c-8672-c30b41104198",
   "metadata": {},
   "outputs": [
    {
     "name": "stdout",
     "output_type": "stream",
     "text": [
      "TITAN X (Pascal)\n",
      "GeForce GT 710\n"
     ]
    },
    {
     "name": "stderr",
     "output_type": "stream",
     "text": [
      "C:\\ProgramData\\Anaconda3\\envs\\pytorch\\lib\\site-packages\\torch\\cuda\\__init__.py:152: UserWarning: \n",
      "    Found GPU1 GeForce GT 710 which is of cuda capability 3.5.\n",
      "    PyTorch no longer supports this GPU because it is too old.\n",
      "    The minimum cuda capability supported by this library is 3.7.\n",
      "    \n",
      "  warnings.warn(old_gpu_warn % (d, name, major, minor, min_arch // 10, min_arch % 10))\n"
     ]
    }
   ],
   "source": [
    "for i in range(torch.cuda.device_count()):\n",
    "    print(torch.cuda.get_device_properties(i).name)"
   ]
  },
  {
   "cell_type": "code",
   "execution_count": 12,
   "id": "40a263ed-53cb-4a79-9444-bf4e83981ee1",
   "metadata": {},
   "outputs": [
    {
     "data": {
      "text/plain": [
       "_CudaDeviceProperties(name='TITAN X (Pascal)', major=6, minor=1, total_memory=12288MB, multi_processor_count=28)"
      ]
     },
     "execution_count": 12,
     "metadata": {},
     "output_type": "execute_result"
    }
   ],
   "source": [
    "torch.cuda.get_device_properties(\"cuda:0\")"
   ]
  },
  {
   "cell_type": "code",
   "execution_count": null,
   "id": "f1b35cf0-dcfe-4ba2-97ea-bccb049a4fa1",
   "metadata": {},
   "outputs": [],
   "source": []
  }
 ],
 "metadata": {
  "kernelspec": {
   "display_name": "pytorch",
   "language": "python",
   "name": "pytorch"
  },
  "language_info": {
   "codemirror_mode": {
    "name": "ipython",
    "version": 3
   },
   "file_extension": ".py",
   "mimetype": "text/x-python",
   "name": "python",
   "nbconvert_exporter": "python",
   "pygments_lexer": "ipython3",
   "version": "3.9.16"
  }
 },
 "nbformat": 4,
 "nbformat_minor": 5
}
